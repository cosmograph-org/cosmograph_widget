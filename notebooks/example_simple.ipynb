{
 "cells": [
  {
   "cell_type": "code",
   "execution_count": 7,
   "id": "73f7467c-15c2-49e2-baf4-4aa042dc6ada",
   "metadata": {},
   "outputs": [],
   "source": [
    "from cosmograph_widget import Cosmograph\n",
    "import pandas as pd\n",
    "from IPython.display import display"
   ]
  },
  {
   "cell_type": "code",
   "execution_count": 8,
   "id": "140a4e5d-4dc0-45cf-ae6a-5bba9fa3bf9f",
   "metadata": {},
   "outputs": [
    {
     "data": {
      "text/html": [
       "<div>\n",
       "<style scoped>\n",
       "    .dataframe tbody tr th:only-of-type {\n",
       "        vertical-align: middle;\n",
       "    }\n",
       "\n",
       "    .dataframe tbody tr th {\n",
       "        vertical-align: top;\n",
       "    }\n",
       "\n",
       "    .dataframe thead th {\n",
       "        text-align: right;\n",
       "    }\n",
       "</style>\n",
       "<table border=\"1\" class=\"dataframe\">\n",
       "  <thead>\n",
       "    <tr style=\"text-align: right;\">\n",
       "      <th></th>\n",
       "      <th>index</th>\n",
       "      <th>id</th>\n",
       "      <th>color</th>\n",
       "    </tr>\n",
       "  </thead>\n",
       "  <tbody>\n",
       "    <tr>\n",
       "      <th>0</th>\n",
       "      <td>0</td>\n",
       "      <td>1</td>\n",
       "      <td>#88C6FF</td>\n",
       "    </tr>\n",
       "    <tr>\n",
       "      <th>1</th>\n",
       "      <td>1</td>\n",
       "      <td>2</td>\n",
       "      <td>#FF99D2</td>\n",
       "    </tr>\n",
       "    <tr>\n",
       "      <th>2</th>\n",
       "      <td>2</td>\n",
       "      <td>3</td>\n",
       "      <td>#E3116C</td>\n",
       "    </tr>\n",
       "  </tbody>\n",
       "</table>\n",
       "</div>"
      ],
      "text/plain": [
       "   index id    color\n",
       "0      0  1  #88C6FF\n",
       "1      1  2  #FF99D2\n",
       "2      2  3  #E3116C"
      ]
     },
     "execution_count": 8,
     "metadata": {},
     "output_type": "execute_result"
    }
   ],
   "source": [
    "points = pd.DataFrame([\n",
    "  { 'index': 0, 'id': '1', 'color': '#88C6FF' },\n",
    "  { 'index': 1, 'id': '2', 'color': '#FF99D2' },\n",
    "  { 'index': 2, 'id': '3', 'color': '#E3116C' },\n",
    "])\n",
    "points"
   ]
  },
  {
   "cell_type": "code",
   "execution_count": 9,
   "id": "a9883dc9-700d-4ac6-a1ce-179423bb53fb",
   "metadata": {},
   "outputs": [
    {
     "data": {
      "text/html": [
       "<div>\n",
       "<style scoped>\n",
       "    .dataframe tbody tr th:only-of-type {\n",
       "        vertical-align: middle;\n",
       "    }\n",
       "\n",
       "    .dataframe tbody tr th {\n",
       "        vertical-align: top;\n",
       "    }\n",
       "\n",
       "    .dataframe thead th {\n",
       "        text-align: right;\n",
       "    }\n",
       "</style>\n",
       "<table border=\"1\" class=\"dataframe\">\n",
       "  <thead>\n",
       "    <tr style=\"text-align: right;\">\n",
       "      <th></th>\n",
       "      <th>sourceidx</th>\n",
       "      <th>source</th>\n",
       "      <th>targetidx</th>\n",
       "      <th>target</th>\n",
       "    </tr>\n",
       "  </thead>\n",
       "  <tbody>\n",
       "    <tr>\n",
       "      <th>0</th>\n",
       "      <td>0</td>\n",
       "      <td>1</td>\n",
       "      <td>1</td>\n",
       "      <td>2</td>\n",
       "    </tr>\n",
       "    <tr>\n",
       "      <th>1</th>\n",
       "      <td>0</td>\n",
       "      <td>1</td>\n",
       "      <td>2</td>\n",
       "      <td>3</td>\n",
       "    </tr>\n",
       "    <tr>\n",
       "      <th>2</th>\n",
       "      <td>1</td>\n",
       "      <td>2</td>\n",
       "      <td>2</td>\n",
       "      <td>3</td>\n",
       "    </tr>\n",
       "  </tbody>\n",
       "</table>\n",
       "</div>"
      ],
      "text/plain": [
       "   sourceidx source  targetidx target\n",
       "0          0      1          1      2\n",
       "1          0      1          2      3\n",
       "2          1      2          2      3"
      ]
     },
     "execution_count": 9,
     "metadata": {},
     "output_type": "execute_result"
    }
   ],
   "source": [
    "links = pd.DataFrame([\n",
    "  { 'sourceidx': 0, 'source': '1', 'targetidx': 1, 'target': '2' },\n",
    "  { 'sourceidx': 0, 'source': '1', 'targetidx': 2, 'target': '3' },\n",
    "  { 'sourceidx': 1, 'source': '2', 'targetidx': 2, 'target': '3' },\n",
    "])\n",
    "links"
   ]
  },
  {
   "cell_type": "code",
   "execution_count": 11,
   "id": "d3407537-fc32-4303-836f-188735987223",
   "metadata": {},
   "outputs": [
    {
     "data": {
      "application/vnd.jupyter.widget-view+json": {
       "model_id": "9436676b38a743c589205eeba4aa5c7e",
       "version_major": 2,
       "version_minor": 1
      },
      "text/plain": [
       "Cosmograph(background_color=None, default_link_color=None, default_point_color=None, focused_point_ring_color=…"
      ]
     },
     "metadata": {},
     "output_type": "display_data"
    }
   ],
   "source": [
    "cosmo = Cosmograph(points=points, links=links,\n",
    "   point_id='id',\n",
    "   point_index='index',\n",
    "   point_color='color',\n",
    "   link_source='source',\n",
    "   link_source_index='sourceidx',\n",
    "   link_target='target',\n",
    "   link_target_index='targetidx',\n",
    ")\n",
    "display(cosmo)"
   ]
  },
  {
   "cell_type": "code",
   "execution_count": 13,
   "id": "d636848d-1c72-4d3e-9391-1cb61473ee80",
   "metadata": {},
   "outputs": [],
   "source": [
    "cosmo.fit_view()"
   ]
  },
  {
   "cell_type": "code",
   "execution_count": null,
   "id": "bb584296-1aa7-40d9-9b16-1e8649d62705",
   "metadata": {},
   "outputs": [],
   "source": []
  }
 ],
 "metadata": {
  "kernelspec": {
   "display_name": "Python 3 (ipykernel)",
   "language": "python",
   "name": "python3"
  },
  "language_info": {
   "codemirror_mode": {
    "name": "ipython",
    "version": 3
   },
   "file_extension": ".py",
   "mimetype": "text/x-python",
   "name": "python",
   "nbconvert_exporter": "python",
   "pygments_lexer": "ipython3",
   "version": "3.12.4"
  }
 },
 "nbformat": 4,
 "nbformat_minor": 5
}
