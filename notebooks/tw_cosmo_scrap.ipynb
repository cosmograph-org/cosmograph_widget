{
 "cells": [
  {
   "cell_type": "code",
   "execution_count": null,
   "metadata": {},
   "outputs": [],
   "source": []
  },
  {
   "cell_type": "code",
   "execution_count": 1,
   "metadata": {},
   "outputs": [
    {
     "data": {
      "text/html": [
       "<div>\n",
       "<style scoped>\n",
       "    .dataframe tbody tr th:only-of-type {\n",
       "        vertical-align: middle;\n",
       "    }\n",
       "\n",
       "    .dataframe tbody tr th {\n",
       "        vertical-align: top;\n",
       "    }\n",
       "\n",
       "    .dataframe thead th {\n",
       "        text-align: right;\n",
       "    }\n",
       "</style>\n",
       "<table border=\"1\" class=\"dataframe\">\n",
       "  <thead>\n",
       "    <tr style=\"text-align: right;\">\n",
       "      <th></th>\n",
       "      <th>id</th>\n",
       "      <th>x</th>\n",
       "      <th>y</th>\n",
       "    </tr>\n",
       "  </thead>\n",
       "  <tbody>\n",
       "    <tr>\n",
       "      <th>0</th>\n",
       "      <td>0</td>\n",
       "      <td>1927.923096</td>\n",
       "      <td>1832.501465</td>\n",
       "    </tr>\n",
       "    <tr>\n",
       "      <th>1</th>\n",
       "      <td>1</td>\n",
       "      <td>1924.040649</td>\n",
       "      <td>1841.283203</td>\n",
       "    </tr>\n",
       "    <tr>\n",
       "      <th>2</th>\n",
       "      <td>10</td>\n",
       "      <td>1932.819580</td>\n",
       "      <td>1841.832642</td>\n",
       "    </tr>\n",
       "    <tr>\n",
       "      <th>3</th>\n",
       "      <td>2</td>\n",
       "      <td>1920.441040</td>\n",
       "      <td>1852.924683</td>\n",
       "    </tr>\n",
       "  </tbody>\n",
       "</table>\n",
       "</div>"
      ],
      "text/plain": [
       "   id            x            y\n",
       "0   0  1927.923096  1832.501465\n",
       "1   1  1924.040649  1841.283203\n",
       "2  10  1932.819580  1841.832642\n",
       "3   2  1920.441040  1852.924683"
      ]
     },
     "execution_count": 1,
     "metadata": {},
     "output_type": "execute_result"
    }
   ],
   "source": [
    "import cosmograph\n",
    "import pandas as pd\n",
    "\n",
    "nodes = pd.read_csv('10x100-nodes.csv', delimiter=';')\n",
    "nodes[:4]"
   ]
  },
  {
   "cell_type": "code",
   "execution_count": 5,
   "metadata": {},
   "outputs": [
    {
     "data": {
      "application/vnd.jupyter.widget-view+json": {
       "model_id": "d3e62858f8ca49ab959273759c471d38",
       "version_major": 2,
       "version_minor": 0
      },
      "text/plain": [
       "Cosmograph()"
      ]
     },
     "execution_count": 5,
     "metadata": {},
     "output_type": "execute_result"
    }
   ],
   "source": [
    "from cosmograph import cosmo\n",
    "\n",
    "cosmo(nodes=nodes)"
   ]
  },
  {
   "cell_type": "code",
   "execution_count": 9,
   "metadata": {},
   "outputs": [
    {
     "data": {
      "text/html": [
       "<div>\n",
       "<style scoped>\n",
       "    .dataframe tbody tr th:only-of-type {\n",
       "        vertical-align: middle;\n",
       "    }\n",
       "\n",
       "    .dataframe tbody tr th {\n",
       "        vertical-align: top;\n",
       "    }\n",
       "\n",
       "    .dataframe thead th {\n",
       "        text-align: right;\n",
       "    }\n",
       "</style>\n",
       "<table border=\"1\" class=\"dataframe\">\n",
       "  <thead>\n",
       "    <tr style=\"text-align: right;\">\n",
       "      <th></th>\n",
       "      <th>source</th>\n",
       "      <th>target</th>\n",
       "    </tr>\n",
       "  </thead>\n",
       "  <tbody>\n",
       "    <tr>\n",
       "      <th>0</th>\n",
       "      <td>0</td>\n",
       "      <td>1</td>\n",
       "    </tr>\n",
       "    <tr>\n",
       "      <th>1</th>\n",
       "      <td>0</td>\n",
       "      <td>10</td>\n",
       "    </tr>\n",
       "    <tr>\n",
       "      <th>2</th>\n",
       "      <td>1</td>\n",
       "      <td>2</td>\n",
       "    </tr>\n",
       "    <tr>\n",
       "      <th>3</th>\n",
       "      <td>1</td>\n",
       "      <td>11</td>\n",
       "    </tr>\n",
       "    <tr>\n",
       "      <th>4</th>\n",
       "      <td>2</td>\n",
       "      <td>3</td>\n",
       "    </tr>\n",
       "    <tr>\n",
       "      <th>...</th>\n",
       "      <td>...</td>\n",
       "      <td>...</td>\n",
       "    </tr>\n",
       "    <tr>\n",
       "      <th>1885</th>\n",
       "      <td>994</td>\n",
       "      <td>995</td>\n",
       "    </tr>\n",
       "    <tr>\n",
       "      <th>1886</th>\n",
       "      <td>995</td>\n",
       "      <td>996</td>\n",
       "    </tr>\n",
       "    <tr>\n",
       "      <th>1887</th>\n",
       "      <td>996</td>\n",
       "      <td>997</td>\n",
       "    </tr>\n",
       "    <tr>\n",
       "      <th>1888</th>\n",
       "      <td>997</td>\n",
       "      <td>998</td>\n",
       "    </tr>\n",
       "    <tr>\n",
       "      <th>1889</th>\n",
       "      <td>998</td>\n",
       "      <td>999</td>\n",
       "    </tr>\n",
       "  </tbody>\n",
       "</table>\n",
       "<p>1890 rows × 2 columns</p>\n",
       "</div>"
      ],
      "text/plain": [
       "      source  target\n",
       "0          0       1\n",
       "1          0      10\n",
       "2          1       2\n",
       "3          1      11\n",
       "4          2       3\n",
       "...      ...     ...\n",
       "1885     994     995\n",
       "1886     995     996\n",
       "1887     996     997\n",
       "1888     997     998\n",
       "1889     998     999\n",
       "\n",
       "[1890 rows x 2 columns]"
      ]
     },
     "execution_count": 9,
     "metadata": {},
     "output_type": "execute_result"
    }
   ],
   "source": [
    "links = pd.read_csv('10x100-links.csv', delimiter=';')\n",
    "from cosmograph import Cosmograph\n",
    "\n",
    "Cosmograph(links=links)\n",
    "links"
   ]
  },
  {
   "cell_type": "code",
   "execution_count": 12,
   "metadata": {},
   "outputs": [
    {
     "data": {
      "application/vnd.jupyter.widget-view+json": {
       "model_id": "e06583cdc9e8418e8ea500f4011f8ae8",
       "version_major": 2,
       "version_minor": 0
      },
      "text/plain": [
       "TwCosmograph()"
      ]
     },
     "execution_count": 12,
     "metadata": {},
     "output_type": "execute_result"
    }
   ],
   "source": [
    "from cosmograph import TwCosmograph\n",
    "\n",
    "TwCosmograph(nodes=nodes, configs={})"
   ]
  },
  {
   "cell_type": "code",
   "execution_count": null,
   "metadata": {},
   "outputs": [],
   "source": []
  },
  {
   "cell_type": "code",
   "execution_count": 25,
   "metadata": {},
   "outputs": [
    {
     "ename": "TypeError",
     "evalue": "func() got an unexpected keyword argument 'nodes'",
     "output_type": "error",
     "traceback": [
      "\u001b[0;31m---------------------------------------------------------------------------\u001b[0m",
      "\u001b[0;31mTypeError\u001b[0m                                 Traceback (most recent call last)",
      "Cell \u001b[0;32mIn[25], line 29\u001b[0m\n\u001b[1;32m     24\u001b[0m \u001b[38;5;129m@Sig\u001b[39m(interface)\n\u001b[1;32m     25\u001b[0m \u001b[38;5;28;01mdef\u001b[39;00m \u001b[38;5;21mfunc\u001b[39m(configs):\n\u001b[1;32m     26\u001b[0m     \u001b[38;5;28;01mreturn\u001b[39;00m \u001b[38;5;124mf\u001b[39m\u001b[38;5;124m\"\u001b[39m\u001b[38;5;132;01m{\u001b[39;00mconfigs\u001b[38;5;132;01m=}\u001b[39;00m\u001b[38;5;124m\"\u001b[39m\n\u001b[0;32m---> 29\u001b[0m \u001b[43mfunc\u001b[49m\u001b[43m(\u001b[49m\u001b[38;5;241;43m1\u001b[39;49m\u001b[43m,\u001b[49m\u001b[43m \u001b[49m\u001b[43mnodes\u001b[49m\u001b[38;5;241;43m=\u001b[39;49m\u001b[38;5;241;43m2\u001b[39;49m\u001b[43m,\u001b[49m\u001b[43m \u001b[49m\u001b[43mnode_color\u001b[49m\u001b[38;5;241;43m=\u001b[39;49m\u001b[38;5;124;43m'\u001b[39;49m\u001b[38;5;124;43mred\u001b[39;49m\u001b[38;5;124;43m'\u001b[39;49m\u001b[43m,\u001b[49m\u001b[43m \u001b[49m\u001b[43mnode_size\u001b[49m\u001b[38;5;241;43m=\u001b[39;49m\u001b[38;5;241;43m10\u001b[39;49m\u001b[43m,\u001b[49m\u001b[43m \u001b[49m\u001b[43medge_color\u001b[49m\u001b[38;5;241;43m=\u001b[39;49m\u001b[38;5;124;43m'\u001b[39;49m\u001b[38;5;124;43mblue\u001b[39;49m\u001b[38;5;124;43m'\u001b[39;49m\u001b[43m)\u001b[49m\n",
      "\u001b[0;31mTypeError\u001b[0m: func() got an unexpected keyword argument 'nodes'"
     ]
    }
   ],
   "source": [
    "def func0(links, nodes, configs):\n",
    "    return f\"{links} {nodes} {configs}\"\n",
    "\n",
    "def func1(links, nodes, **configs):\n",
    "    return func0(links, nodes, configs)\n",
    "\n",
    "def func2(links, nodes, node_color=None, **extra_configs):\n",
    "    if node_color is not None:\n",
    "        extra_configs['node_color'] = node_color\n",
    "    return func1(links, nodes, **extra_configs)\n",
    "\n",
    "assert func0(1,2,{'a': 3, 'b': 4}) == func1(1,2,a=3,b=4)\n",
    "\n",
    "assert (\n",
    "    func2(1, nodes=2, node_color='red', node_size=10, edge_color='blue') \n",
    "    == \"1 2 {'node_size': 10, 'edge_color': 'blue', 'node_color': 'red'}\"\n",
    ")\n",
    "\n"
   ]
  },
  {
   "cell_type": "code",
   "execution_count": 2,
   "metadata": {},
   "outputs": [
    {
     "data": {
      "application/vnd.jupyter.widget-view+json": {
       "model_id": "6b1be609b70543aba7bfd73fdc0f833c",
       "version_major": 2,
       "version_minor": 0
      },
      "text/plain": [
       "Cosmograph()"
      ]
     },
     "execution_count": 2,
     "metadata": {},
     "output_type": "execute_result"
    }
   ],
   "source": [
    "from cosmograph import Cosmograph\n",
    "\n",
    "c = Cosmograph(nodes=nodes)\n",
    "c"
   ]
  },
  {
   "cell_type": "code",
   "execution_count": null,
   "metadata": {},
   "outputs": [],
   "source": []
  },
  {
   "cell_type": "code",
   "execution_count": null,
   "metadata": {},
   "outputs": [],
   "source": []
  },
  {
   "cell_type": "code",
   "execution_count": null,
   "metadata": {},
   "outputs": [],
   "source": []
  },
  {
   "cell_type": "code",
   "execution_count": 3,
   "metadata": {},
   "outputs": [
    {
     "data": {
      "application/vnd.jupyter.widget-view+json": {
       "model_id": "8aef9daed333427c8709aaf2d9db19e1",
       "version_major": 2,
       "version_minor": 0
      },
      "text/plain": [
       "Cosmograph()"
      ]
     },
     "execution_count": 3,
     "metadata": {},
     "output_type": "execute_result"
    }
   ],
   "source": [
    "# TODO: Look into anywidget to see what argument Cosmograph takes\n",
    "g = Cosmograph(meta=meta)"
   ]
  },
  {
   "cell_type": "code",
   "execution_count": 13,
   "metadata": {},
   "outputs": [
    {
     "data": {
      "text/plain": [
       "'899'"
      ]
     },
     "execution_count": 13,
     "metadata": {},
     "output_type": "execute_result"
    }
   ],
   "source": [
    "g.clicked_node_id"
   ]
  },
  {
   "cell_type": "code",
   "execution_count": null,
   "metadata": {},
   "outputs": [],
   "source": []
  },
  {
   "cell_type": "code",
   "execution_count": 9,
   "metadata": {},
   "outputs": [
    {
     "data": {
      "text/html": [
       "<div>\n",
       "<style scoped>\n",
       "    .dataframe tbody tr th:only-of-type {\n",
       "        vertical-align: middle;\n",
       "    }\n",
       "\n",
       "    .dataframe tbody tr th {\n",
       "        vertical-align: top;\n",
       "    }\n",
       "\n",
       "    .dataframe thead th {\n",
       "        text-align: right;\n",
       "    }\n",
       "</style>\n",
       "<table border=\"1\" class=\"dataframe\">\n",
       "  <thead>\n",
       "    <tr style=\"text-align: right;\">\n",
       "      <th></th>\n",
       "      <th>id</th>\n",
       "      <th>x</th>\n",
       "      <th>y</th>\n",
       "    </tr>\n",
       "  </thead>\n",
       "  <tbody>\n",
       "    <tr>\n",
       "      <th>0</th>\n",
       "      <td>0</td>\n",
       "      <td>69.082874</td>\n",
       "      <td>28.671628</td>\n",
       "    </tr>\n",
       "    <tr>\n",
       "      <th>1</th>\n",
       "      <td>1</td>\n",
       "      <td>10.981618</td>\n",
       "      <td>27.437969</td>\n",
       "    </tr>\n",
       "    <tr>\n",
       "      <th>2</th>\n",
       "      <td>2</td>\n",
       "      <td>41.607348</td>\n",
       "      <td>98.310395</td>\n",
       "    </tr>\n",
       "    <tr>\n",
       "      <th>3</th>\n",
       "      <td>3</td>\n",
       "      <td>48.839824</td>\n",
       "      <td>64.020605</td>\n",
       "    </tr>\n",
       "    <tr>\n",
       "      <th>4</th>\n",
       "      <td>4</td>\n",
       "      <td>95.748493</td>\n",
       "      <td>10.774900</td>\n",
       "    </tr>\n",
       "    <tr>\n",
       "      <th>5</th>\n",
       "      <td>5</td>\n",
       "      <td>79.000466</td>\n",
       "      <td>34.721291</td>\n",
       "    </tr>\n",
       "    <tr>\n",
       "      <th>6</th>\n",
       "      <td>6</td>\n",
       "      <td>60.831807</td>\n",
       "      <td>8.471021</td>\n",
       "    </tr>\n",
       "    <tr>\n",
       "      <th>7</th>\n",
       "      <td>7</td>\n",
       "      <td>86.010546</td>\n",
       "      <td>7.175826</td>\n",
       "    </tr>\n",
       "    <tr>\n",
       "      <th>8</th>\n",
       "      <td>8</td>\n",
       "      <td>86.925246</td>\n",
       "      <td>77.316812</td>\n",
       "    </tr>\n",
       "    <tr>\n",
       "      <th>9</th>\n",
       "      <td>9</td>\n",
       "      <td>50.140405</td>\n",
       "      <td>3.374141</td>\n",
       "    </tr>\n",
       "  </tbody>\n",
       "</table>\n",
       "</div>"
      ],
      "text/plain": [
       "   id          x          y\n",
       "0   0  69.082874  28.671628\n",
       "1   1  10.981618  27.437969\n",
       "2   2  41.607348  98.310395\n",
       "3   3  48.839824  64.020605\n",
       "4   4  95.748493  10.774900\n",
       "5   5  79.000466  34.721291\n",
       "6   6  60.831807   8.471021\n",
       "7   7  86.010546   7.175826\n",
       "8   8  86.925246  77.316812\n",
       "9   9  50.140405   3.374141"
      ]
     },
     "execution_count": 9,
     "metadata": {},
     "output_type": "execute_result"
    }
   ],
   "source": [
    "# make a random dataframe with id, x, and y with 10 rows\n",
    "import numpy as np\n",
    "random_df = pd.DataFrame({\n",
    "    'id': range(10),\n",
    "    'x': np.random.rand(10) * 100,\n",
    "    'y': np.random.rand(10) * 100\n",
    "})\n",
    "random_df"
   ]
  },
  {
   "cell_type": "code",
   "execution_count": 11,
   "metadata": {},
   "outputs": [],
   "source": [
    "g.meta = meta"
   ]
  },
  {
   "cell_type": "markdown",
   "metadata": {},
   "source": [
    "\n",
    "```js\n",
    "export class Cosmograph<N extends CosmosInputNode, L extends CosmosInputLink> {\n",
    "    public constructor (containerNode: HTMLDivElement, config?: CosmographInputConfig<N, L>) \n",
    "\n",
    "}\n",
    "```\n",
    "\n",
    "\n",
    "```python\n",
    "# Cosmograph<N extends CosmosInputNode, L extends CosmosInputLink> {\n",
    "class Cosmograph<N extends CosmosInputNode, L extends CosmosInputLink> {\n",
    "    def __init__ (containerNode: HTMLDivElement, config?: CosmographInputConfig<N, L>)\n",
    "\n",
    "    ...\n",
    "\n",
    "}\n",
    "```\n",
    "\n"
   ]
  },
  {
   "cell_type": "code",
   "execution_count": 30,
   "metadata": {},
   "outputs": [
    {
     "data": {
      "text/html": [
       "<div>\n",
       "<style scoped>\n",
       "    .dataframe tbody tr th:only-of-type {\n",
       "        vertical-align: middle;\n",
       "    }\n",
       "\n",
       "    .dataframe tbody tr th {\n",
       "        vertical-align: top;\n",
       "    }\n",
       "\n",
       "    .dataframe thead th {\n",
       "        text-align: right;\n",
       "    }\n",
       "</style>\n",
       "<table border=\"1\" class=\"dataframe\">\n",
       "  <thead>\n",
       "    <tr style=\"text-align: right;\">\n",
       "      <th></th>\n",
       "      <th>id</th>\n",
       "      <th>x</th>\n",
       "      <th>y</th>\n",
       "    </tr>\n",
       "  </thead>\n",
       "  <tbody>\n",
       "    <tr>\n",
       "      <th>0</th>\n",
       "      <td>0</td>\n",
       "      <td>1927.923096</td>\n",
       "      <td>1832.501465</td>\n",
       "    </tr>\n",
       "    <tr>\n",
       "      <th>1</th>\n",
       "      <td>1</td>\n",
       "      <td>1924.040649</td>\n",
       "      <td>1841.283203</td>\n",
       "    </tr>\n",
       "    <tr>\n",
       "      <th>2</th>\n",
       "      <td>10</td>\n",
       "      <td>1932.819580</td>\n",
       "      <td>1841.832642</td>\n",
       "    </tr>\n",
       "    <tr>\n",
       "      <th>3</th>\n",
       "      <td>2</td>\n",
       "      <td>1920.441040</td>\n",
       "      <td>1852.924683</td>\n",
       "    </tr>\n",
       "    <tr>\n",
       "      <th>4</th>\n",
       "      <td>11</td>\n",
       "      <td>1929.525024</td>\n",
       "      <td>1851.059204</td>\n",
       "    </tr>\n",
       "    <tr>\n",
       "      <th>...</th>\n",
       "      <td>...</td>\n",
       "      <td>...</td>\n",
       "      <td>...</td>\n",
       "    </tr>\n",
       "    <tr>\n",
       "      <th>995</th>\n",
       "      <td>995</td>\n",
       "      <td>1805.138916</td>\n",
       "      <td>1866.460327</td>\n",
       "    </tr>\n",
       "    <tr>\n",
       "      <th>996</th>\n",
       "      <td>996</td>\n",
       "      <td>1814.693604</td>\n",
       "      <td>1858.946655</td>\n",
       "    </tr>\n",
       "    <tr>\n",
       "      <th>997</th>\n",
       "      <td>997</td>\n",
       "      <td>1824.231689</td>\n",
       "      <td>1852.418457</td>\n",
       "    </tr>\n",
       "    <tr>\n",
       "      <th>998</th>\n",
       "      <td>998</td>\n",
       "      <td>1833.554810</td>\n",
       "      <td>1848.298096</td>\n",
       "    </tr>\n",
       "    <tr>\n",
       "      <th>999</th>\n",
       "      <td>999</td>\n",
       "      <td>1841.417480</td>\n",
       "      <td>1845.509277</td>\n",
       "    </tr>\n",
       "  </tbody>\n",
       "</table>\n",
       "<p>1000 rows × 3 columns</p>\n",
       "</div>"
      ],
      "text/plain": [
       "      id            x            y\n",
       "0      0  1927.923096  1832.501465\n",
       "1      1  1924.040649  1841.283203\n",
       "2     10  1932.819580  1841.832642\n",
       "3      2  1920.441040  1852.924683\n",
       "4     11  1929.525024  1851.059204\n",
       "..   ...          ...          ...\n",
       "995  995  1805.138916  1866.460327\n",
       "996  996  1814.693604  1858.946655\n",
       "997  997  1824.231689  1852.418457\n",
       "998  998  1833.554810  1848.298096\n",
       "999  999  1841.417480  1845.509277\n",
       "\n",
       "[1000 rows x 3 columns]"
      ]
     },
     "execution_count": 30,
     "metadata": {},
     "output_type": "execute_result"
    }
   ],
   "source": []
  },
  {
   "cell_type": "code",
   "execution_count": null,
   "metadata": {},
   "outputs": [],
   "source": []
  },
  {
   "cell_type": "markdown",
   "metadata": {},
   "source": [
    "# Scrap"
   ]
  },
  {
   "cell_type": "markdown",
   "metadata": {},
   "source": [
    "## arxiv 2d"
   ]
  },
  {
   "cell_type": "code",
   "execution_count": 3,
   "metadata": {},
   "outputs": [
    {
     "data": {
      "text/plain": [
       "(2254198, 3)"
      ]
     },
     "execution_count": 3,
     "metadata": {},
     "output_type": "execute_result"
    }
   ],
   "source": [
    "import pandas as pd\n",
    "\n",
    "XY = pd.read_pickle('/Users/thorwhalen/tmp/arxiv/arxiv-titles-2d-embedding.pkl')\n",
    "# make a dataframe with id, x, and y with the XY columns as x and y\n",
    "XY_df = pd.DataFrame({\n",
    "    'id': range(len(XY)),\n",
    "    'x': XY[:, 0],\n",
    "    'y': XY[:, 1]\n",
    "})\n",
    "XY_df.shape"
   ]
  },
  {
   "cell_type": "code",
   "execution_count": 5,
   "metadata": {},
   "outputs": [],
   "source": [
    "# from cosmograph import Cosmograph\n",
    "# g = Cosmograph(meta=XY_df)\n",
    "# g"
   ]
  },
  {
   "cell_type": "code",
   "execution_count": 41,
   "metadata": {},
   "outputs": [
    {
     "data": {
      "text/plain": [
       "(2254198, 3)"
      ]
     },
     "execution_count": 41,
     "metadata": {},
     "output_type": "execute_result"
    }
   ],
   "source": [
    "XY_df"
   ]
  },
  {
   "cell_type": "code",
   "execution_count": null,
   "metadata": {},
   "outputs": [],
   "source": []
  },
  {
   "cell_type": "markdown",
   "metadata": {},
   "source": [
    "## Refactoring config specs so they're in one place"
   ]
  },
  {
   "cell_type": "markdown",
   "metadata": {},
   "source": [
    "```typescript\n",
    "\n",
    "\trender_links: boolean;\n",
    "\trenderLinks: model.get(\"render_links\") ?? true,\n",
    "\tmodel.on(\"change:render_links\", () => {\n",
    "\t\tconst renderLinks = model.get(\"render_links\")\n",
    "\t\tif (typeof renderLinks === 'boolean') cosmograph.setConfig({ renderLinks })\n",
    "\t});\n",
    "\n",
    "```\n",
    "\n",
    "\n",
    "```typescript\n",
    "\n",
    "struct:\n",
    "\trender_links: boolean;\n",
    "\trenderLinks: model.get(\"render_links\") ?? true,\n",
    "\tmodel.on(\"change:render_links\", () => {\n",
    "\t\tconst renderLinks = model.get(\"render_links\")\n",
    "\t\tif (typeof renderLinks === 'boolean') cosmograph.setConfig({ renderLinks })\n",
    "\t});\n",
    "\n",
    "```"
   ]
  },
  {
   "cell_type": "code",
   "execution_count": 17,
   "metadata": {},
   "outputs": [
    {
     "name": "stdout",
     "output_type": "stream",
     "text": [
      "\n",
      "    struct:\n",
      "        render_links: boolean;\n",
      "        RenderLinks: model.get(\"render_links\") ?? true,\n",
      "        model.on(\"change:render_links\", () => {\n",
      "            const RenderLinks = model.get(\"render_links\")\n",
      "            if (typeof RenderLinks === 'boolean') cosmograph.setConfig({ RenderLinks })\n",
      "        );\n",
      "        }\n",
      "    \n"
     ]
    }
   ],
   "source": [
    "def snake_case_to_camel_case(name):\n",
    "    return ''.join(x.capitalize() or '_' for x in name.split('_'))\n",
    "\n",
    "def mk_single_config(name):\n",
    "    camel_name = snake_case_to_camel_case(name)\n",
    "    return f\"\"\"\n",
    "    struct:\n",
    "        {name}: boolean;\n",
    "        {camel_name}: model.get(\"render_links\") ?? true,\n",
    "        model.on(\"change:render_links\", () => {{\n",
    "            const {camel_name} = model.get(\"{name}\")\n",
    "            if (typeof {camel_name} === 'boolean') cosmograph.setConfig({{ {camel_name} }})\n",
    "        );\n",
    "        }}\n",
    "    \"\"\"\n",
    "\n",
    "print(mk_single_config('render_links'))\n"
   ]
  },
  {
   "cell_type": "code",
   "execution_count": 34,
   "metadata": {},
   "outputs": [
    {
     "data": {
      "text/plain": [
       "Config(typ=1, expression=2, model_on=None)"
      ]
     },
     "execution_count": 34,
     "metadata": {},
     "output_type": "execute_result"
    }
   ],
   "source": [
    "from dataclasses import dataclass\n",
    "\n",
    "@dataclass\n",
    "class Config:\n",
    "    typ: str\n",
    "    expression: str\n",
    "    model_on: str = None\n",
    "\n",
    "def __post_init__(self):\n",
    "    assert isinstance(self.typ, str), f'typ must be a string, not {type(self.typ)}'\n",
    "    print(f\"{self.model_on=}\")\n",
    "    if self.model_on is None:\n",
    "        print('asdf')\n",
    "        self.model_on = self.expression\n",
    "\n",
    "\n",
    "t = Config(1,2)\n",
    "t\n"
   ]
  },
  {
   "cell_type": "code",
   "execution_count": null,
   "metadata": {},
   "outputs": [],
   "source": [
    "config = {\n",
    "    'type': 'boolean',\n",
    "    'expression': 'model.get(\"render_links\") ?? true',\n",
    "    'model_on': 'model.on(\"change:render_links\", () => {',\n",
    "}"
   ]
  },
  {
   "cell_type": "code",
   "execution_count": null,
   "metadata": {},
   "outputs": [],
   "source": []
  },
  {
   "cell_type": "code",
   "execution_count": null,
   "metadata": {},
   "outputs": [],
   "source": []
  },
  {
   "cell_type": "code",
   "execution_count": 28,
   "metadata": {},
   "outputs": [
    {
     "data": {
      "text/plain": [
       "{'CosmographConfigInterface': {'disableSimulation': '',\n",
       "  'showDynamicLabels': '',\n",
       "  'showTopLabels': '',\n",
       "  'showTopLabelsLimit': '',\n",
       "  'showTopLabelsValueKey': '',\n",
       "  'showLabelsFor': '',\n",
       "  'showHoveredNodeLabel': '',\n",
       "  'nodeLabelAccessor': '',\n",
       "  'nodeLabelClassName': '',\n",
       "  'nodeLabelColor': '',\n",
       "  'hoveredNodeLabelClassName': '',\n",
       "  'hoveredNodeLabelColor': '',\n",
       "  'onSetData': '',\n",
       "  'onNodesFiltered': '',\n",
       "  'onLinksFiltered': '',\n",
       "  'onLabelClick': ''}}"
      ]
     },
     "execution_count": 28,
     "metadata": {},
     "output_type": "execute_result"
    }
   ],
   "source": [
    "\n",
    "import sys\n",
    "from ts_morph import Project, SourceFile\n",
    "\n",
    "def extractTypesFromTS(filePath):\n",
    "    # Create a new project and add the source file\n",
    "    project = Project.create()\n",
    "    sourceFile = project.addSourceFileAtPath(filePath)\n",
    "\n",
    "    # Get all type aliases from the file\n",
    "    typeAliases = []\n",
    "    for alias in sourceFile.getTypeAliasDeclarations():\n",
    "        if not alias.getSymbol().isExported():\n",
    "            continue  # Skip non-exported symbols\n",
    "        typeAliases.append({\n",
    "            \"name\": alias.getName(),\n",
    "            \"type\": str(alias.getType()),\n",
    "        })\n",
    "\n",
    "    return typeAliases\n",
    "\n",
    "# Assuming `ts_file_content` contains the content of the TypeScript file as a string\n",
    "ts_file_content = \"\"\"\n",
    "import { CosmosInputLink, CosmosInputNode, GraphConfigInterface, GraphSimulationSettings, GraphEvents } from '@cosmograph/cosmos'\n",
    "\n",
    "export type CosmographConfigInterface<N extends CosmosInputNode, L extends CosmosInputLink> = {\n",
    "  /**\n",
    "   * Do not run the simulation, just render the graph.\n",
    "   * Cosmos uses the x and y values of the nodes’ data to determine their position in the graph.\n",
    "   * If x and y values are not specified, the position of the nodes will be assigned randomly.\n",
    "   * If the value is set to null and the data does not have any links,\n",
    "   * Cosmograph will automatically set this value to `true`.\n",
    "   * Default value: `null`\n",
    "   */\n",
    "  disableSimulation?: boolean | null;\n",
    "  /**\n",
    "   * Show labels for the nodes that are currently visible on the screen,\n",
    "   * and automatically update to reflect the current zoom level.\n",
    "   * Default: `true`\n",
    "   */\n",
    "  showDynamicLabels?: boolean;\n",
    "  /**\n",
    "   * Show labels for the top nodes.\n",
    "   * Default: `false`\n",
    "   */\n",
    "  showTopLabels?: boolean;\n",
    "  /**\n",
    "   * Sets the maximum number of top nodes to show labels for.\n",
    "   * Default: `100`\n",
    "   */\n",
    "  showTopLabelsLimit?: number;\n",
    "  /**\n",
    "   * Specify the key that is used to determine the top nodes.\n",
    "   * By default, the top nodes are determined by the node degree.\n",
    "   * Default: `undefined`\n",
    "   */\n",
    "  showTopLabelsValueKey?: keyof N;\n",
    "  /**\n",
    "   * An array of nodes to show labels for.\n",
    "   * Default: `undefined`\n",
    "   */\n",
    "  showLabelsFor?: N[];\n",
    "  /**\n",
    "   * Whether to show a hovered node label.\n",
    "   * Default: `false`\n",
    "   */\n",
    "  showHoveredNodeLabel?: boolean;\n",
    "  /**\n",
    "   * Function that  generate custom text for each label.\n",
    "   * Default: `n => n.id`\n",
    "   * @param node Node object\n",
    "   * @returns String that will be used as the label text for that node\n",
    "   */\n",
    "  nodeLabelAccessor?: (node: N) => string;\n",
    "  /**\n",
    "   * Specifies the CSS class to use for the labels.\n",
    "   * Default: `undefined`\n",
    "   */\n",
    "  nodeLabelClassName?: string | ((node: N) => string);\n",
    "  /**\n",
    "   * Specifies the CSS color to use for the labels.\n",
    "   * Default: `undefined`\n",
    "   */\n",
    "  nodeLabelColor?: string | ((node: N) => string);\n",
    "  /**\n",
    "   * Specifies the CSS class to use for the hovered node label.\n",
    "   * Default: `undefined`\n",
    "   */\n",
    "  hoveredNodeLabelClassName?: string | ((node: N) => string);\n",
    "  /**\n",
    "   * Specifies the CSS color to use for the hovered node label.\n",
    "   * Default: `undefined`\n",
    "   */\n",
    "  hoveredNodeLabelColor?: string | ((node: N) => string);\n",
    "  /**\n",
    "   * Callback function that will be called when the data was updated\n",
    "   * Default: `undefined`\n",
    "   */\n",
    "  onSetData?: (nodes: N[], links: L[]) => void;\n",
    "  /**\n",
    "   * Callback function that will be called when the nodes was filtered by Node Crossfilter.\n",
    "   * Default: `undefined`\n",
    "   */\n",
    "  onNodesFiltered?: (filteredNodes: N[] | undefined) => void;\n",
    "  /**\n",
    "   * Callback function that will be called when the links was filtered by Link Crossfilter.\n",
    "   * Default: `undefined`\n",
    "   */\n",
    "  onLinksFiltered?: (filteredLinks: L[] | undefined) => void;\n",
    "  /**\n",
    "   * Callback function that will be called when clicked on a label.\n",
    "   * The Node data for this label will be passed as the first argument,\n",
    "   * and the corresponding mouse event as the second argument\n",
    "   * Default: `undefined`\n",
    "   */\n",
    "  onLabelClick?: (node: N, event: MouseEvent) => void;\n",
    "} & GraphEvents<N> & {\n",
    "  /**\n",
    "   * Decay coefficient. Use bigger values if you want the simulation to \"cool down\" slower.\n",
    "   * Default value: `1000`\n",
    "   */\n",
    "  simulationDecay?: GraphSimulationSettings<N>['decay'];\n",
    "  /**\n",
    "   * Gravity force coefficient.\n",
    "   * Default value: `0`\n",
    "   */\n",
    "  simulationGravity?: GraphSimulationSettings<N>['gravity'];\n",
    "  /**\n",
    "   * Centering to center mass force coefficient.\n",
    "   * Default value: `0`\n",
    "   */\n",
    "  simulationCenter?: GraphSimulationSettings<N>['center'];\n",
    "  /**\n",
    "   * Repulsion force coefficient.\n",
    "   * Default value: `0.1`\n",
    "   */\n",
    "  simulationRepulsion?: GraphSimulationSettings<N>['repulsion'];\n",
    "  /**\n",
    "   * Decreases / increases the detalization of the Many-Body force calculations.\n",
    "   * When `useQuadtree` is set to `true`, this property corresponds to the Barnes–Hut approximation criterion.\n",
    "   * Default value: `1.7`\n",
    "   */\n",
    "  simulationRepulsionTheta?: GraphSimulationSettings<N>['repulsionTheta'];\n",
    "  /**\n",
    "   * Barnes–Hut approximation depth.\n",
    "   * Can only be used when `useQuadtree` is set `true`.\n",
    "   * Default value: `12`\n",
    "   */\n",
    "  simulationRepulsionQuadtreeLevels?: GraphSimulationSettings<N>['repulsionQuadtreeLevels'];\n",
    "  /**\n",
    "   * Link spring force coefficient.\n",
    "   * Default value: `1`\n",
    "   */\n",
    "  simulationLinkSpring?: GraphSimulationSettings<N>['linkSpring'];\n",
    "  /**\n",
    "   * Minimum link distance.\n",
    "   * Default value: `2`\n",
    "   */\n",
    "  simulationLinkDistance?: GraphSimulationSettings<N>['linkDistance'];\n",
    "  /**\n",
    "   * Range of random link distance values.\n",
    "   * Default value: `[1, 1.2]`\n",
    "   */\n",
    "  simulationLinkDistRandomVariationRange?: GraphSimulationSettings<N>['linkDistRandomVariationRange'];\n",
    "  /**\n",
    "   * Repulsion coefficient from mouse position.\n",
    "   * The repulsion force is activated by pressing the right mouse button.\n",
    "   * Default value: `2`\n",
    "   */\n",
    "  simulationRepulsionFromMouse?: GraphSimulationSettings<N>['repulsionFromMouse'];\n",
    "  /**\n",
    "   * Friction coefficient.\n",
    "   * Default value: `0.85`\n",
    "   */\n",
    "  simulationFriction?: GraphSimulationSettings<N>['friction'];\n",
    "  /**\n",
    "   * Callback function that will be called when the simulation starts.\n",
    "   * Default value: `undefined`\n",
    "   */\n",
    "  onSimulationStart?: GraphSimulationSettings<N>['onStart'];\n",
    "  /**\n",
    "   * Callback function that will be called on every tick of the simulation.\n",
    "   * The value of the first argument `alpha` will decrease over time as the simulation\n",
    "   * \"cools down\". If there's a node under the cursor, its datum will be passed as the second argument,\n",
    "   * index as the third argument and position as the fourth argument:\n",
    "   * (alpha: number, node: Node | undefined, index: number | undefined, nodePosition: [number, number] | undefined) => void. Default value: undefined\n",
    "   * Default value: `undefined`\n",
    "   */\n",
    "  onSimulationTick?: GraphSimulationSettings<N>['onTick'];\n",
    "  /**\n",
    "   * Callback function that will be called when the simulation stops.\n",
    "   * Default value: `undefined`\n",
    "   */\n",
    "  onSimulationEnd?: GraphSimulationSettings<N>['onEnd'];\n",
    "  /**\n",
    "   * Callback function that will be called when the simulation is paused.\n",
    "   * Default value: `undefined`\n",
    "   */\n",
    "  onSimulationPause?: GraphSimulationSettings<N>['onPause'];\n",
    "  /**\n",
    "   * Callback function that will be called when the simulation is restarted.\n",
    "   * Default value: `undefined`\n",
    "   */\n",
    "  onSimulationRestart?: GraphSimulationSettings<N>['onRestart'];\n",
    "}\n",
    "\n",
    "export const defaultCosmographConfig: CosmographConfigInterface<CosmosInputNode, CosmosInputLink> = {\n",
    "  disableSimulation: null,\n",
    "  showDynamicLabels: true,\n",
    "  showTopLabels: false,\n",
    "  showTopLabelsLimit: 100,\n",
    "  showTopLabelsValueKey: undefined,\n",
    "  showLabelsFor: undefined,\n",
    "  showHoveredNodeLabel: true,\n",
    "  nodeLabelAccessor: n => n.id,\n",
    "  nodeLabelClassName: undefined,\n",
    "  nodeLabelColor: undefined,\n",
    "  hoveredNodeLabelClassName: undefined,\n",
    "  hoveredNodeLabelColor: undefined,\n",
    "  onSetData: undefined,\n",
    "  onNodesFiltered: undefined,\n",
    "  onLinksFiltered: undefined,\n",
    "  onLabelClick: undefined,\n",
    "}\n",
    "\n",
    "export type CosmographInputConfig <N extends CosmosInputNode, L extends CosmosInputLink> =\n",
    "  CosmographConfigInterface<N, L> &\n",
    "  Omit<GraphConfigInterface<N, L>, 'events' | 'simulation' | 'disableSimulation'>\n",
    "\"\"\"\n",
    "\n",
    "parsed_data = parse_ts_file(ts_file_content)\n",
    "parsed_data\n"
   ]
  },
  {
   "cell_type": "code",
   "execution_count": null,
   "metadata": {},
   "outputs": [],
   "source": []
  },
  {
   "cell_type": "code",
   "execution_count": null,
   "metadata": {},
   "outputs": [],
   "source": []
  }
 ],
 "metadata": {
  "kernelspec": {
   "display_name": "p10",
   "language": "python",
   "name": "python3"
  },
  "language_info": {
   "codemirror_mode": {
    "name": "ipython",
    "version": 3
   },
   "file_extension": ".py",
   "mimetype": "text/x-python",
   "name": "python",
   "nbconvert_exporter": "python",
   "pygments_lexer": "ipython3",
   "version": "3.10.13"
  }
 },
 "nbformat": 4,
 "nbformat_minor": 2
}
