{
 "cells": [
  {
   "cell_type": "code",
   "execution_count": 1,
   "id": "be7196a3-df0f-4473-bdaf-7c319ccecf9d",
   "metadata": {},
   "outputs": [
    {
     "name": "stdout",
     "output_type": "stream",
     "text": [
      "env: ANYWIDGET_HMR=1\n"
     ]
    }
   ],
   "source": [
    "%load_ext autoreload\n",
    "%autoreload 2\n",
    "%env ANYWIDGET_HMR=1"
   ]
  },
  {
   "cell_type": "code",
   "execution_count": 2,
   "id": "fcc1f7a4",
   "metadata": {},
   "outputs": [],
   "source": [
    "from cosmograph_widget import Cosmograph\n",
    "import pandas as pd\n",
    "import ipywidgets as widgets\n",
    "from IPython.display import display\n",
    "# dir(Cosmograph)"
   ]
  },
  {
   "cell_type": "code",
   "execution_count": null,
   "id": "f2e13e76-8df3-48d2-95c2-54fcc9b57540",
   "metadata": {},
   "outputs": [],
   "source": []
  },
  {
   "cell_type": "code",
   "execution_count": 3,
   "id": "655741f7",
   "metadata": {},
   "outputs": [
    {
     "data": {
      "text/html": [
       "<div>\n",
       "<style scoped>\n",
       "    .dataframe tbody tr th:only-of-type {\n",
       "        vertical-align: middle;\n",
       "    }\n",
       "\n",
       "    .dataframe tbody tr th {\n",
       "        vertical-align: top;\n",
       "    }\n",
       "\n",
       "    .dataframe thead th {\n",
       "        text-align: right;\n",
       "    }\n",
       "</style>\n",
       "<table border=\"1\" class=\"dataframe\">\n",
       "  <thead>\n",
       "    <tr style=\"text-align: right;\">\n",
       "      <th></th>\n",
       "      <th>id</th>\n",
       "      <th>index</th>\n",
       "      <th>value</th>\n",
       "      <th>value2</th>\n",
       "      <th>date</th>\n",
       "      <th>time</th>\n",
       "      <th>color</th>\n",
       "      <th>label</th>\n",
       "    </tr>\n",
       "  </thead>\n",
       "  <tbody>\n",
       "    <tr>\n",
       "      <th>0</th>\n",
       "      <td>0</td>\n",
       "      <td>0</td>\n",
       "      <td>-5</td>\n",
       "      <td>116</td>\n",
       "      <td>2022-11-25 03:25:04.851000+00:00</td>\n",
       "      <td>1970-01-01T01:20:59.956Z</td>\n",
       "      <td>#bab0ab</td>\n",
       "      <td>offence</td>\n",
       "    </tr>\n",
       "    <tr>\n",
       "      <th>1</th>\n",
       "      <td>1</td>\n",
       "      <td>1</td>\n",
       "      <td>17</td>\n",
       "      <td>155</td>\n",
       "      <td>2020-08-21 06:38:36.826000+00:00</td>\n",
       "      <td>1970-01-01T00:40:26.814Z</td>\n",
       "      <td>#9c755f</td>\n",
       "      <td>analytics</td>\n",
       "    </tr>\n",
       "    <tr>\n",
       "      <th>2</th>\n",
       "      <td>2</td>\n",
       "      <td>2</td>\n",
       "      <td>-31</td>\n",
       "      <td>51</td>\n",
       "      <td>2012-05-15 07:34:20.927000+00:00</td>\n",
       "      <td>1970-01-01T01:07:34.760Z</td>\n",
       "      <td>#9c755f</td>\n",
       "      <td>minor-league</td>\n",
       "    </tr>\n",
       "  </tbody>\n",
       "</table>\n",
       "</div>"
      ],
      "text/plain": [
       "   id  index  value  value2                             date  \\\n",
       "0   0      0     -5     116 2022-11-25 03:25:04.851000+00:00   \n",
       "1   1      1     17     155 2020-08-21 06:38:36.826000+00:00   \n",
       "2   2      2    -31      51 2012-05-15 07:34:20.927000+00:00   \n",
       "\n",
       "                       time    color         label  \n",
       "0  1970-01-01T01:20:59.956Z  #bab0ab       offence  \n",
       "1  1970-01-01T00:40:26.814Z  #9c755f     analytics  \n",
       "2  1970-01-01T01:07:34.760Z  #9c755f  minor-league  "
      ]
     },
     "execution_count": 3,
     "metadata": {},
     "output_type": "execute_result"
    }
   ],
   "source": [
    "points = pd.read_json('./points.json')\n",
    "points.head(3)"
   ]
  },
  {
   "cell_type": "code",
   "execution_count": 4,
   "id": "d00a4160-4b94-430c-a433-688ea6d7b76e",
   "metadata": {},
   "outputs": [
    {
     "data": {
      "text/html": [
       "<div>\n",
       "<style scoped>\n",
       "    .dataframe tbody tr th:only-of-type {\n",
       "        vertical-align: middle;\n",
       "    }\n",
       "\n",
       "    .dataframe tbody tr th {\n",
       "        vertical-align: top;\n",
       "    }\n",
       "\n",
       "    .dataframe thead th {\n",
       "        text-align: right;\n",
       "    }\n",
       "</style>\n",
       "<table border=\"1\" class=\"dataframe\">\n",
       "  <thead>\n",
       "    <tr style=\"text-align: right;\">\n",
       "      <th></th>\n",
       "      <th>source</th>\n",
       "      <th>sourceidx</th>\n",
       "      <th>date</th>\n",
       "      <th>time</th>\n",
       "      <th>color</th>\n",
       "      <th>target</th>\n",
       "      <th>targetidx</th>\n",
       "    </tr>\n",
       "  </thead>\n",
       "  <tbody>\n",
       "    <tr>\n",
       "      <th>0</th>\n",
       "      <td>0</td>\n",
       "      <td>0</td>\n",
       "      <td>2012-02-08 11:17:27.900000+00:00</td>\n",
       "      <td>1970-01-01T01:06:54.149Z</td>\n",
       "      <td>#4e79a7</td>\n",
       "      <td>1</td>\n",
       "      <td>1</td>\n",
       "    </tr>\n",
       "    <tr>\n",
       "      <th>1</th>\n",
       "      <td>0</td>\n",
       "      <td>0</td>\n",
       "      <td>2012-02-08 11:17:27.900000+00:00</td>\n",
       "      <td>1970-01-01T01:06:54.149Z</td>\n",
       "      <td>#4e79a7</td>\n",
       "      <td>92</td>\n",
       "      <td>92</td>\n",
       "    </tr>\n",
       "  </tbody>\n",
       "</table>\n",
       "</div>"
      ],
      "text/plain": [
       "   source  sourceidx                             date  \\\n",
       "0       0          0 2012-02-08 11:17:27.900000+00:00   \n",
       "1       0          0 2012-02-08 11:17:27.900000+00:00   \n",
       "\n",
       "                       time    color  target  targetidx  \n",
       "0  1970-01-01T01:06:54.149Z  #4e79a7       1          1  \n",
       "1  1970-01-01T01:06:54.149Z  #4e79a7      92         92  "
      ]
     },
     "execution_count": 4,
     "metadata": {},
     "output_type": "execute_result"
    }
   ],
   "source": [
    "links = pd.read_json('./links.json')\n",
    "links.head(2)"
   ]
  },
  {
   "cell_type": "code",
   "execution_count": 7,
   "id": "b5e3787d-2461-4363-9bd7-009e56f1b69f",
   "metadata": {},
   "outputs": [
    {
     "data": {
      "application/vnd.jupyter.widget-view+json": {
       "model_id": "397cb42c2a044eb68d9c1bf11da4a20c",
       "version_major": 2,
       "version_minor": 0
      },
      "text/plain": [
       "FloatSlider(value=0.25, description='gravity:', max=0.5, step=0.01)"
      ]
     },
     "metadata": {},
     "output_type": "display_data"
    },
    {
     "data": {
      "application/vnd.jupyter.widget-view+json": {
       "model_id": "58a10e49e3304f2693bf93d017ea28ec",
       "version_major": 2,
       "version_minor": 0
      },
      "text/plain": [
       "FloatSlider(value=1.0, description='repulsion:', max=2.0, step=0.01)"
      ]
     },
     "metadata": {},
     "output_type": "display_data"
    },
    {
     "data": {
      "application/vnd.jupyter.widget-view+json": {
       "model_id": "13f06d7912f94bf388bc872b7de0ebba",
       "version_major": 2,
       "version_minor": 0
      },
      "text/plain": [
       "FloatSlider(value=1.0, description='link strength:', max=2.0, step=0.01)"
      ]
     },
     "metadata": {},
     "output_type": "display_data"
    },
    {
     "data": {
      "application/vnd.jupyter.widget-view+json": {
       "model_id": "dda0280c6cf44c8f82bad1d1a8307e88",
       "version_major": 2,
       "version_minor": 0
      },
      "text/plain": [
       "IntSlider(value=10, description='min link dist:', max=20, min=1, step=0)"
      ]
     },
     "metadata": {},
     "output_type": "display_data"
    },
    {
     "data": {
      "application/vnd.jupyter.widget-view+json": {
       "model_id": "12ab9ff31c8b451aa8e2ef4b355e7e42",
       "version_major": 2,
       "version_minor": 0
      },
      "text/plain": [
       "Button(description='Accelerate', style=ButtonStyle())"
      ]
     },
     "metadata": {},
     "output_type": "display_data"
    },
    {
     "data": {
      "application/vnd.jupyter.widget-view+json": {
       "model_id": "306b755b34c5434dbec53f66cd79c18f",
       "version_major": 2,
       "version_minor": 1
      },
      "text/plain": [
       "Cosmograph(background_color=None, default_link_color=None, default_point_color=None, focused_point_ring_color=…"
      ]
     },
     "metadata": {},
     "output_type": "display_data"
    }
   ],
   "source": [
    "cosmo = Cosmograph(points=points, links=links,\n",
    "           point_id='id',\n",
    "           point_index='index',\n",
    "           point_color='color',\n",
    "           point_label='label',\n",
    "           point_include_columns=['value', 'value2'],\n",
    "           link_source='source',\n",
    "           link_source_index='sourceidx',\n",
    "           link_target='target',\n",
    "           link_target_index='targetidx',\n",
    "           link_color='color',\n",
    "           link_width='value'\n",
    "        )\n",
    "\n",
    "gravitySlider = widgets.FloatSlider(value=0.25, min=0, max=0.5, step=0.01, description='gravity:')\n",
    "repulsionSlider = widgets.FloatSlider(value=1, min=0, max=2, step=0.01, description='repulsion:')\n",
    "linkStrengthSlider = widgets.FloatSlider(value=1, min=0, max=2, step=0.01, description='link strength:')\n",
    "minimumLinkDistance = widgets.IntSlider(value=10, min=1, max=20, step=0.01, description='min link dist:')\n",
    "\n",
    "widgets.jslink((gravitySlider, 'value'), (cosmo, 'simulation_gravity'))\n",
    "widgets.jslink((repulsionSlider, 'value'), (cosmo, 'simulation_repulsion'))\n",
    "widgets.jslink((linkStrengthSlider, 'value'), (cosmo, 'simulation_link_spring'))\n",
    "widgets.jslink((minimumLinkDistance, 'value'), (cosmo, 'simulation_link_distance'))\n",
    "\n",
    "accelerateButton = widgets.Button(description='Accelerate')\n",
    "accelerateButton.on_click(lambda x: cosmo.start(1))\n",
    "\n",
    "display(gravitySlider, repulsionSlider, linkStrengthSlider, minimumLinkDistance, accelerateButton, cosmo)"
   ]
  },
  {
   "cell_type": "code",
   "execution_count": null,
   "id": "3419c431",
   "metadata": {},
   "outputs": [],
   "source": [
    "cosmo.activate_rect_selection()"
   ]
  },
  {
   "cell_type": "code",
   "execution_count": null,
   "id": "29ed5162-3b2e-4213-bcb3-c2321c77f9cc",
   "metadata": {},
   "outputs": [],
   "source": [
    "cosmo.deactivate_rect_selection()"
   ]
  },
  {
   "cell_type": "code",
   "execution_count": null,
   "id": "e0c155fb",
   "metadata": {},
   "outputs": [],
   "source": [
    "cosmo.selected_point_indices"
   ]
  },
  {
   "cell_type": "code",
   "execution_count": null,
   "id": "3203aa94",
   "metadata": {
    "editable": true,
    "slideshow": {
     "slide_type": ""
    },
    "tags": []
   },
   "outputs": [],
   "source": [
    "cosmo.select_points_by_indices([1,2,3,4,5])\n",
    "# cosmo.select_points_by_indices([]) # unselect points"
   ]
  },
  {
   "cell_type": "code",
   "execution_count": null,
   "id": "8d70a986-1156-4e1a-8bce-d5e9af8949c1",
   "metadata": {},
   "outputs": [],
   "source": [
    "cosmo.focus_point(5)\n",
    "# cosmo.focus_point()"
   ]
  },
  {
   "cell_type": "code",
   "execution_count": null,
   "id": "73e63db0-9db7-4356-b7b5-51887f96da00",
   "metadata": {},
   "outputs": [],
   "source": [
    "# cosmo.fit_view()\n",
    "# cosmo.fit_view_by_indices([1,2,3,4,5], 250, 0.1)\n",
    "cosmo.fit_view_by_coordinates([1400, 1400, 2500, 2500], 2000)"
   ]
  },
  {
   "cell_type": "code",
   "execution_count": null,
   "id": "ebe9e9fb",
   "metadata": {},
   "outputs": [],
   "source": [
    "cosmo.background_color = 'hotpink'\n",
    "# cosmo.background_color = 'gold'"
   ]
  },
  {
   "cell_type": "code",
   "execution_count": null,
   "id": "e52e1515",
   "metadata": {},
   "outputs": [],
   "source": []
  },
  {
   "cell_type": "code",
   "execution_count": null,
   "id": "e614ca18",
   "metadata": {},
   "outputs": [],
   "source": []
  },
  {
   "cell_type": "code",
   "execution_count": null,
   "id": "ca7f8bff",
   "metadata": {},
   "outputs": [],
   "source": []
  },
  {
   "cell_type": "code",
   "execution_count": null,
   "id": "ff4ede30",
   "metadata": {},
   "outputs": [],
   "source": []
  }
 ],
 "metadata": {
  "kernelspec": {
   "display_name": "Python 3 (ipykernel)",
   "language": "python",
   "name": "python3"
  },
  "language_info": {
   "codemirror_mode": {
    "name": "ipython",
    "version": 3
   },
   "file_extension": ".py",
   "mimetype": "text/x-python",
   "name": "python",
   "nbconvert_exporter": "python",
   "pygments_lexer": "ipython3",
   "version": "3.12.4"
  }
 },
 "nbformat": 4,
 "nbformat_minor": 5
}
