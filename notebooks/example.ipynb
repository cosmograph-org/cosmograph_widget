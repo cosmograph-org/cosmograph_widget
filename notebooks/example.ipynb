{
 "cells": [
  {
   "cell_type": "code",
   "execution_count": 1,
   "id": "fcc1f7a4",
   "metadata": {},
   "outputs": [
    {
     "data": {
      "text/plain": [
       "['CSS',\n",
       " 'Cosmograph',\n",
       " 'ESM',\n",
       " 'TwCosmograph',\n",
       " '_DEV',\n",
       " '__builtins__',\n",
       " '__cached__',\n",
       " '__doc__',\n",
       " '__file__',\n",
       " '__loader__',\n",
       " '__name__',\n",
       " '__package__',\n",
       " '__path__',\n",
       " '__spec__',\n",
       " '__version__',\n",
       " 'anywidget',\n",
       " 'config_to_json',\n",
       " 'cosmo',\n",
       " 'importlib',\n",
       " 'pa',\n",
       " 'pathlib',\n",
       " 'traitlets']"
      ]
     },
     "execution_count": 1,
     "metadata": {},
     "output_type": "execute_result"
    }
   ],
   "source": [
    "import cosmograph\n",
    "dir(cosmograph)"
   ]
  },
  {
   "cell_type": "code",
   "execution_count": 2,
   "id": "07a3c70d-3bb0-4eb8-82ec-926ea9282a5a",
   "metadata": {},
   "outputs": [],
   "source": [
    "from cosmograph import cosmo\n",
    "import pandas as pd"
   ]
  },
  {
   "cell_type": "code",
   "execution_count": 3,
   "id": "655741f7",
   "metadata": {},
   "outputs": [],
   "source": [
    "nodes = pd.read_csv('10x100-nodes.csv', delimiter=';')\n",
    "links = pd.read_csv('10x100-links.csv', delimiter=';')"
   ]
  },
  {
   "cell_type": "code",
   "execution_count": 4,
   "id": "b5e3787d-2461-4363-9bd7-009e56f1b69f",
   "metadata": {},
   "outputs": [
    {
     "data": {
      "application/vnd.jupyter.widget-view+json": {
       "model_id": "50c5cf0ff7c3454d881ff89e7ae1c568",
       "version_major": 2,
       "version_minor": 0
      },
      "text/plain": [
       "TwCosmograph(config={'show_dynamic_labels': 'False'})"
      ]
     },
     "execution_count": 4,
     "metadata": {},
     "output_type": "execute_result"
    }
   ],
   "source": [
    "c = cosmo(nodes, show_dynamic_labels='False')\n",
    "c"
   ]
  },
  {
   "cell_type": "code",
   "execution_count": 5,
   "id": "d8df4812",
   "metadata": {},
   "outputs": [
    {
     "data": {
      "text/plain": [
       "'[\\n  {\\n    \"code\": \"invalid_type\",\\n    \"expected\": \"boolean\",\\n    \"received\": \"string\",\\n    \"path\": [\\n      \"show_dynamic_labels\"\\n    ],\\n    \"message\": \"Expected boolean, received string\"\\n  }\\n]'"
      ]
     },
     "execution_count": 5,
     "metadata": {},
     "output_type": "execute_result"
    }
   ],
   "source": [
    "c.error_message"
   ]
  },
  {
   "cell_type": "code",
   "execution_count": 11,
   "id": "9b920b9f",
   "metadata": {},
   "outputs": [
    {
     "data": {
      "application/vnd.jupyter.widget-view+json": {
       "model_id": "f9dd6ea72c004ed3a581ca3cc8166843",
       "version_major": 2,
       "version_minor": 0
      },
      "text/plain": [
       "TwCosmograph(config={'node_color': 'lightskyblue'})"
      ]
     },
     "execution_count": 11,
     "metadata": {},
     "output_type": "execute_result"
    }
   ],
   "source": [
    "cosmo(links=links, node_color='lightskyblue')"
   ]
  },
  {
   "cell_type": "code",
   "execution_count": null,
   "id": "3203aa94",
   "metadata": {},
   "outputs": [],
   "source": []
  },
  {
   "cell_type": "code",
   "execution_count": null,
   "id": "e0c155fb",
   "metadata": {},
   "outputs": [],
   "source": []
  },
  {
   "cell_type": "code",
   "execution_count": null,
   "id": "ebe9e9fb",
   "metadata": {},
   "outputs": [],
   "source": []
  },
  {
   "cell_type": "code",
   "execution_count": null,
   "id": "e52e1515",
   "metadata": {},
   "outputs": [],
   "source": []
  },
  {
   "cell_type": "code",
   "execution_count": null,
   "id": "e614ca18",
   "metadata": {},
   "outputs": [],
   "source": []
  },
  {
   "cell_type": "code",
   "execution_count": null,
   "id": "ca7f8bff",
   "metadata": {},
   "outputs": [],
   "source": []
  },
  {
   "cell_type": "code",
   "execution_count": null,
   "id": "ff4ede30",
   "metadata": {},
   "outputs": [],
   "source": []
  }
 ],
 "metadata": {
  "kernelspec": {
   "display_name": "Python 3 (ipykernel)",
   "language": "python",
   "name": "python3"
  },
  "language_info": {
   "codemirror_mode": {
    "name": "ipython",
    "version": 3
   },
   "file_extension": ".py",
   "mimetype": "text/x-python",
   "name": "python",
   "nbconvert_exporter": "python",
   "pygments_lexer": "ipython3",
   "version": "3.9.4"
  }
 },
 "nbformat": 4,
 "nbformat_minor": 5
}
