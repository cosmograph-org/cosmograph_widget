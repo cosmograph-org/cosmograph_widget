{
 "cells": [
  {
   "cell_type": "code",
   "execution_count": 1,
   "id": "fcc1f7a4",
   "metadata": {},
   "outputs": [
    {
     "data": {
      "text/plain": [
       "['CSS',\n",
       " 'Cosmograph',\n",
       " 'ESM',\n",
       " '_DEV',\n",
       " '__builtins__',\n",
       " '__cached__',\n",
       " '__doc__',\n",
       " '__file__',\n",
       " '__loader__',\n",
       " '__name__',\n",
       " '__package__',\n",
       " '__path__',\n",
       " '__spec__',\n",
       " '__version__',\n",
       " 'anywidget',\n",
       " 'importlib',\n",
       " 'pa',\n",
       " 'pathlib',\n",
       " 'traitlets']"
      ]
     },
     "execution_count": 1,
     "metadata": {},
     "output_type": "execute_result"
    }
   ],
   "source": [
    "import cosmograph\n",
    "dir(cosmograph)"
   ]
  },
  {
   "cell_type": "code",
   "execution_count": 2,
   "id": "07a3c70d-3bb0-4eb8-82ec-926ea9282a5a",
   "metadata": {},
   "outputs": [],
   "source": [
    "from cosmograph import Cosmograph\n",
    "import pandas as pd"
   ]
  },
  {
   "cell_type": "code",
   "execution_count": 3,
   "id": "655741f7",
   "metadata": {},
   "outputs": [
    {
     "data": {
      "text/html": [
       "<div>\n",
       "<style scoped>\n",
       "    .dataframe tbody tr th:only-of-type {\n",
       "        vertical-align: middle;\n",
       "    }\n",
       "\n",
       "    .dataframe tbody tr th {\n",
       "        vertical-align: top;\n",
       "    }\n",
       "\n",
       "    .dataframe thead th {\n",
       "        text-align: right;\n",
       "    }\n",
       "</style>\n",
       "<table border=\"1\" class=\"dataframe\">\n",
       "  <thead>\n",
       "    <tr style=\"text-align: right;\">\n",
       "      <th></th>\n",
       "      <th>id</th>\n",
       "      <th>x</th>\n",
       "      <th>y</th>\n",
       "    </tr>\n",
       "  </thead>\n",
       "  <tbody>\n",
       "    <tr>\n",
       "      <th>0</th>\n",
       "      <td>0</td>\n",
       "      <td>1927.923096</td>\n",
       "      <td>1832.501465</td>\n",
       "    </tr>\n",
       "  </tbody>\n",
       "</table>\n",
       "</div>"
      ],
      "text/plain": [
       "   id            x            y\n",
       "0   0  1927.923096  1832.501465"
      ]
     },
     "execution_count": 3,
     "metadata": {},
     "output_type": "execute_result"
    }
   ],
   "source": [
    "nodes = pd.read_csv('10x100-nodes.csv', delimiter=';')\n",
    "nodes[:1]"
   ]
  },
  {
   "cell_type": "code",
   "execution_count": 4,
   "id": "b5e3787d-2461-4363-9bd7-009e56f1b69f",
   "metadata": {},
   "outputs": [
    {
     "data": {
      "application/vnd.jupyter.widget-view+json": {
       "model_id": "04c312bbe300411d9421feb1d337c14f",
       "version_major": 2,
       "version_minor": 0
      },
      "text/plain": [
       "Cosmograph(show_dynamic_labels=False)"
      ]
     },
     "execution_count": 4,
     "metadata": {},
     "output_type": "execute_result"
    }
   ],
   "source": [
    "cosmo = Cosmograph(nodes=nodes, show_dynamic_labels=False)\n",
    "cosmo"
   ]
  },
  {
   "cell_type": "code",
   "execution_count": 9,
   "id": "98ce25e5",
   "metadata": {},
   "outputs": [
    {
     "data": {
      "text/plain": [
       "'998'"
      ]
     },
     "execution_count": 9,
     "metadata": {},
     "output_type": "execute_result"
    }
   ],
   "source": [
    "# Click on node and update this code cell\n",
    "cosmo.clicked_node_id"
   ]
  },
  {
   "cell_type": "code",
   "execution_count": 6,
   "id": "b26baa51",
   "metadata": {},
   "outputs": [],
   "source": [
    "cosmo.show_dynamic_labels = True"
   ]
  },
  {
   "cell_type": "code",
   "execution_count": 7,
   "id": "b700d87b",
   "metadata": {},
   "outputs": [
    {
     "data": {
      "text/html": [
       "<div>\n",
       "<style scoped>\n",
       "    .dataframe tbody tr th:only-of-type {\n",
       "        vertical-align: middle;\n",
       "    }\n",
       "\n",
       "    .dataframe tbody tr th {\n",
       "        vertical-align: top;\n",
       "    }\n",
       "\n",
       "    .dataframe thead th {\n",
       "        text-align: right;\n",
       "    }\n",
       "</style>\n",
       "<table border=\"1\" class=\"dataframe\">\n",
       "  <thead>\n",
       "    <tr style=\"text-align: right;\">\n",
       "      <th></th>\n",
       "      <th>source</th>\n",
       "      <th>target</th>\n",
       "    </tr>\n",
       "  </thead>\n",
       "  <tbody>\n",
       "    <tr>\n",
       "      <th>0</th>\n",
       "      <td>0</td>\n",
       "      <td>1</td>\n",
       "    </tr>\n",
       "  </tbody>\n",
       "</table>\n",
       "</div>"
      ],
      "text/plain": [
       "   source  target\n",
       "0       0       1"
      ]
     },
     "execution_count": 7,
     "metadata": {},
     "output_type": "execute_result"
    }
   ],
   "source": [
    "links = pd.read_csv('10x100-links.csv', delimiter=';')\n",
    "links[:1]"
   ]
  },
  {
   "cell_type": "code",
   "execution_count": 8,
   "id": "eab707a4",
   "metadata": {},
   "outputs": [],
   "source": [
    "cosmo.links = links"
   ]
  },
  {
   "cell_type": "code",
   "execution_count": 10,
   "id": "adf9014c",
   "metadata": {},
   "outputs": [
    {
     "data": {
      "text/plain": [
       "[999, 988, 997]"
      ]
     },
     "execution_count": 10,
     "metadata": {},
     "output_type": "execute_result"
    }
   ],
   "source": [
    "# Click on node and update this code cell\n",
    "cosmo.adjacent_node_ids_to_clicked_node"
   ]
  },
  {
   "cell_type": "code",
   "execution_count": 11,
   "id": "9b920b9f",
   "metadata": {},
   "outputs": [
    {
     "data": {
      "application/vnd.jupyter.widget-view+json": {
       "model_id": "c5ce33ec83f94594b6086bd71c600896",
       "version_major": 2,
       "version_minor": 0
      },
      "text/plain": [
       "Cosmograph()"
      ]
     },
     "execution_count": 11,
     "metadata": {},
     "output_type": "execute_result"
    }
   ],
   "source": [
    "Cosmograph(links=links, nodes=nodes)"
   ]
  },
  {
   "cell_type": "code",
   "execution_count": null,
   "id": "3203aa94",
   "metadata": {},
   "outputs": [],
   "source": []
  },
  {
   "cell_type": "code",
   "execution_count": null,
   "id": "e0c155fb",
   "metadata": {},
   "outputs": [],
   "source": []
  },
  {
   "cell_type": "code",
   "execution_count": null,
   "id": "ebe9e9fb",
   "metadata": {},
   "outputs": [],
   "source": []
  },
  {
   "cell_type": "code",
   "execution_count": null,
   "id": "e52e1515",
   "metadata": {},
   "outputs": [],
   "source": []
  },
  {
   "cell_type": "code",
   "execution_count": null,
   "id": "e614ca18",
   "metadata": {},
   "outputs": [],
   "source": []
  },
  {
   "cell_type": "code",
   "execution_count": null,
   "id": "ca7f8bff",
   "metadata": {},
   "outputs": [],
   "source": []
  },
  {
   "cell_type": "code",
   "execution_count": null,
   "id": "ff4ede30",
   "metadata": {},
   "outputs": [],
   "source": []
  }
 ],
 "metadata": {
  "kernelspec": {
   "display_name": "Python 3 (ipykernel)",
   "language": "python",
   "name": "python3"
  },
  "language_info": {
   "codemirror_mode": {
    "name": "ipython",
    "version": 3
   },
   "file_extension": ".py",
   "mimetype": "text/x-python",
   "name": "python",
   "nbconvert_exporter": "python",
   "pygments_lexer": "ipython3",
   "version": "3.9.4"
  }
 },
 "nbformat": 4,
 "nbformat_minor": 5
}
